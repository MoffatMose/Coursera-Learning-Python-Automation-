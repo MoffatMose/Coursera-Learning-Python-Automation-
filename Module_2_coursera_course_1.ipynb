{
  "nbformat": 4,
  "nbformat_minor": 0,
  "metadata": {
    "colab": {
      "provenance": [],
      "toc_visible": true,
      "gpuType": "T4",
      "authorship_tag": "ABX9TyOxvjjfXN6js8qeVTBMp6wl",
      "include_colab_link": true
    },
    "kernelspec": {
      "name": "python3",
      "display_name": "Python 3"
    },
    "language_info": {
      "name": "python"
    },
    "accelerator": "GPU"
  },
  "cells": [
    {
      "cell_type": "markdown",
      "metadata": {
        "id": "view-in-github",
        "colab_type": "text"
      },
      "source": [
        "<a href=\"https://colab.research.google.com/github/MoffatMose/Coursera-Learning-Python-Automation-/blob/main/Module_2_coursera_course_1.ipynb\" target=\"_parent\"><img src=\"https://colab.research.google.com/assets/colab-badge.svg\" alt=\"Open In Colab\"/></a>"
      ]
    },
    {
      "cell_type": "code",
      "execution_count": null,
      "metadata": {
        "colab": {
          "base_uri": "https://localhost:8080/"
        },
        "id": "IHXCmj6zv3Kl",
        "outputId": "4fd6f74b-f41e-4210-9245-817b9b2c3320"
      },
      "outputs": [
        {
          "output_type": "stream",
          "name": "stdout",
          "text": [
            "The sum area of the two triangles is 116.0\n"
          ]
        }
      ],
      "source": [
        "#returning values\n",
        "\n",
        "def area_of_triangle(base,height):\n",
        "  return base*height/2\n",
        "\n",
        "area_a=area_of_triangle(5,8)\n",
        "area_b=area_of_triangle(8,24)\n",
        "sum= area_a+area_b\n",
        "print(\"The sum area of the two triangles is \" + str(sum))"
      ]
    },
    {
      "cell_type": "markdown",
      "source": [
        "# Code reusability\n",
        "Consider the code below;"
      ],
      "metadata": {
        "id": "dPvdsT4g3eMQ"
      }
    },
    {
      "cell_type": "code",
      "source": [
        "#before the concept of reusability\n",
        "name = \"Kay\"\n",
        "number = len(name) * 9\n",
        "\n",
        "print(\"Hello \" + name + \". Your lucky number is \" + str(number))\n",
        "\n",
        "name = \"Cameron\"\n",
        "number = len(name) * 9\n",
        "print(\"Hello \" + name + \". Your lucky number is \" + str(number))\n",
        "\n",
        "name=\"James\"\n",
        "number=len(name)*9\n",
        "\n",
        "print(\"Hello \" + name + \". Your lucky number is \" + str(number))"
      ],
      "metadata": {
        "colab": {
          "base_uri": "https://localhost:8080/"
        },
        "id": "iYGzuhbNxfbx",
        "outputId": "5ed9c842-32c9-45ab-d32c-3169874b1ec2"
      },
      "execution_count": null,
      "outputs": [
        {
          "output_type": "stream",
          "name": "stdout",
          "text": [
            "Hello Kay. Your lucky number is 27\n",
            "Hello Cameron. Your lucky number is 63\n",
            "Hello James. Your lucky number is 45\n"
          ]
        }
      ]
    },
    {
      "cell_type": "markdown",
      "source": [
        "#After the concept of reusability\n",
        "Here i learnt the use of def function to make a code resusability avaoiding unnecessary repition\n",
        "\n"
      ],
      "metadata": {
        "id": "RHCzRig04Pp0"
      }
    },
    {
      "cell_type": "code",
      "source": [
        "#Sample 1\n",
        "def lucky_number(name):\n",
        "  number=len(name)*7\n",
        "  print(\"Hello \"+ name +\". Your lucky number is \" + str(number))\n",
        "\n",
        "lucky_number(\"Moses\")\n",
        "lucky_number(\"James\")\n",
        "lucky_number(\"Kay\")\n",
        "lucky_number(\"James\")"
      ],
      "metadata": {
        "colab": {
          "base_uri": "https://localhost:8080/"
        },
        "id": "HGt7QFIi4NIJ",
        "outputId": "b8240246-6553-45a3-fcd3-31b08a676d0e"
      },
      "execution_count": null,
      "outputs": [
        {
          "output_type": "stream",
          "name": "stdout",
          "text": [
            "Hello Moses. Your lucky number is 35\n",
            "Hello James. Your lucky number is 35\n",
            "Hello Kay. Your lucky number is 21\n",
            "Hello James. Your lucky number is 35\n"
          ]
        }
      ]
    },
    {
      "cell_type": "code",
      "source": [
        "# Sample 2 now using calculation area of different circles\n",
        "def calculate(radius):\n",
        "    pi= 22/7\n",
        "    area_of_circle=pi*(radius**2)\n",
        "    print(\"The area of the circle with a radius of \" + str(radius)+ \" cm is \" + str(area_of_circle) + \" cm square\")\n",
        "#different radii\n",
        "calculate(14)\n",
        "calculate(28)\n",
        "calculate(35)\n",
        "calculate(42)\n",
        "calculate(49)"
      ],
      "metadata": {
        "colab": {
          "base_uri": "https://localhost:8080/"
        },
        "id": "bj4J4RZI7TGI",
        "outputId": "4468f8f8-de5c-41ea-905f-45b93d5dcc70"
      },
      "execution_count": null,
      "outputs": [
        {
          "output_type": "stream",
          "name": "stdout",
          "text": [
            "The area of the circle with a radius of 14 cm is 616.0 cm square\n",
            "The area of the circle with a radius of 28 cm is 2464.0 cm square\n",
            "The area of the circle with a radius of 35 cm is 3850.0 cm square\n",
            "The area of the circle with a radius of 42 cm is 5544.0 cm square\n",
            "The area of the circle with a radius of 49 cm is 7546.0 cm square\n"
          ]
        }
      ]
    },
    {
      "cell_type": "markdown",
      "source": [
        "#Comparing things in Python\n",
        "Use co comparison operators\n",
        "\n",
        "\n",
        "*   == (equality)\n",
        "* != (not equal to)\n",
        "* < (less than)\n",
        "\n",
        "\n",
        "* (greater than or equal to)\n",
        "* <=    (less than or equal to)\n",
        "* (greater than) >\n",
        "![image.png](data:image/png;base64,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)\n",
        "\n",
        "# When comparing strings the following apply\n",
        "\n",
        "![image.png](data:image/png;base64,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)"
      ],
      "metadata": {
        "id": "C6nU3by7BhBV"
      }
    },
    {
      "cell_type": "code",
      "source": [
        "#comparing string variables\n",
        "print(\"x\"==\"y\")\n",
        "\n",
        "#Numbers (Intagers and floats)\n",
        "x=13\n",
        "y=17\n",
        "print(x>y)\n",
        "#Compararing many things together\n",
        "\n",
        "print(\"Yellow\">\"Red\" or \"Green\"<\"Orange\") #returns True even is one is true\n",
        "\n",
        "print(\"Yellow\">\"Red\" and \"Green\"<\"Orange\") #Returns true because both the values are true.See the example below\n",
        "print(\"Yellow\"<\"Red\" and \"Green\"<\"Orange\")#Returns false because one of the values are true\n",
        "\n",
        "print(32 == 30+2)   # The == operator checks if the 2 values are\n",
        "True                # equal to each other. If they are equal,\n",
        "                    # Python returns a True result.\n",
        "\n",
        "\n",
        "print(5+10 == 6+7)  # If the two values are not equal, as in the\n",
        "False               # expression 5+10 == 6+7 (or 15 == 13), Python\n",
        "                    # returns a False result.\n",
        "\n",
        "\n",
        "print(10-4 != 10+4) # The != operator checks if the 2 values are\n",
        "True                # NOT equal to each other. If true, Python\n",
        "                    # returns a True result.\n",
        "\n",
        "\n",
        "print(9/3 != 3*1)   # In this last example, 9/3 != 3*1 (or 3 != 3)\n",
        "False               # is false. So, Python returns a False value."
      ],
      "metadata": {
        "id": "4krJk_W6BgH2",
        "colab": {
          "base_uri": "https://localhost:8080/"
        },
        "outputId": "03d8c597-cb9f-4d1b-a94a-31b38ef9715e"
      },
      "execution_count": null,
      "outputs": [
        {
          "output_type": "stream",
          "name": "stdout",
          "text": [
            "False\n",
            "False\n",
            "True\n",
            "True\n",
            "False\n",
            "True\n",
            "False\n",
            "True\n",
            "False\n"
          ]
        },
        {
          "output_type": "execute_result",
          "data": {
            "text/plain": [
              "False"
            ]
          },
          "metadata": {},
          "execution_count": 7
        }
      ]
    },
    {
      "cell_type": "markdown",
      "source": [
        "# **Logical operations (AND, OR, NOT)**\n",
        "\n",
        "For **AND** Both sides of the statement being evaluated must be True for the whole statement to be True.\n",
        "\n",
        "For **NOT** Inverts the Boolean result of the statement immediately following it. So, if a statement evaluates to True, and we put the not operator in front of it, it would become False.\n",
        "\n",
        "For **OR** If either side of the comparison is True, then the whole statement is True.\n",
        "\n",
        "**EXAMPLES ARE SHOWN BELOW**\n",
        "\n",
        "\n"
      ],
      "metadata": {
        "id": "rIRwdxDOXBbM"
      }
    },
    {
      "cell_type": "code",
      "source": [
        "#PART 1 (AND)\n",
        "# Example 1\n",
        "\n",
        "print((6*3 >= 18) and (9+9 <= 36/2)) #First part is true same to second part hence\n",
        "                                     #the whole result is true.\n",
        "# Example 2\n",
        "print(\"Nairobi\" < \"Milan\" and \"Nairobi\" > \"Hanoi\")\n",
        "\n",
        "#PART 2 (OR)\n",
        "# Define country and city variables\n",
        "country = \"United States\"\n",
        "city = \"New York City\"\n",
        "\n",
        "# False or True returns True\n",
        "print(country == \"New York City\" or city == \"New York City\")  # False or True = True\n",
        "\n",
        "# True or False returns True\n",
        "print(16 <= 4**2 or 9**(0.5) != 3)  # True or False = True\n",
        "# True or True returns True\n",
        "print((15/3 < 2+4) or (0 >= 6-7))  # True or True = True\n",
        "\n",
        "# False or False returns False\n",
        "print(\"B_name\" > \"C_name\" or \"B_name\" < \"A_name\") # False or False = False\n",
        "\n",
        "# PART 3 (NOT)\n",
        "# What happens when you negate a False statement?\n",
        "# Click Run when you are ready to check your answer.\n",
        "\n",
        "\n",
        "today = \"Monday\"\n",
        "print(not today == \"Tuesday\")\n",
        "\n",
        "\n",
        "# The \"today\" variable states today is Monday. This makes the comparison\n",
        "# \"today == Tuesday\" False. The logical operator \"not\" inverts the False\n",
        "# result to become True. In other words, this expression asks if it is\n",
        "# false that today is not Tuesday. More succinctly, \"not False\" means\n",
        "# True.\"\n",
        "\n"
      ],
      "metadata": {
        "colab": {
          "base_uri": "https://localhost:8080/"
        },
        "id": "wcAVVQYrYJ6W",
        "outputId": "ab64c7bd-98a0-4357-cb70-0f6b3a8dd7f3"
      },
      "execution_count": null,
      "outputs": [
        {
          "output_type": "stream",
          "name": "stdout",
          "text": [
            "True\n",
            "False\n",
            "True\n",
            "True\n",
            "True\n",
            "False\n",
            "True\n"
          ]
        }
      ]
    },
    {
      "cell_type": "markdown",
      "source": [
        "#**CONDITIONS IF, ELSE, ELIF**\n",
        "The elif statement will only be checked if the condition of the if statement was not true.   \n"
      ],
      "metadata": {
        "id": "2yQh3bvHaCQ1"
      }
    },
    {
      "cell_type": "code",
      "source": [
        "#Example 1\n",
        "# The use of if and else functions\n",
        "def hint_password(password):\n",
        " if len(password) < 8:\n",
        "    print(\"Invalid password, Your password must be atleast 8 characters\")\n",
        " else :\n",
        "    print(\"Proceeding to login\")\n",
        "\n",
        "hint_password(\"1234\")\n",
        "hint_password(\"@Moffat124\")\n",
        "hint_password(\"Jameawqj\")\n"
      ],
      "metadata": {
        "colab": {
          "base_uri": "https://localhost:8080/"
        },
        "id": "hkWg9E8aai-V",
        "outputId": "d5ad13ee-9ea5-4096-fd0f-3e59e8eb58d4"
      },
      "execution_count": null,
      "outputs": [
        {
          "output_type": "stream",
          "name": "stdout",
          "text": [
            "Invalid password, Your password must be atleast 8 characters\n",
            "Proceeding to login\n",
            "Proceeding to login\n"
          ]
        }
      ]
    },
    {
      "cell_type": "code",
      "source": [
        "#Example 2\n",
        "def username(user):\n",
        "    if len(user) < 4:\n",
        "      print(\"Your username is \" + user +\" \"+ str(len(user))+ \" Characters. INVALID\")\n",
        "    else:\n",
        "      print(\"Your username is \" + user +\" \"+ str(len(user))+ \" Characters. Proceed to register\")\n",
        "username(\"pet\")\n",
        "username(\"petty\")"
      ],
      "metadata": {
        "colab": {
          "base_uri": "https://localhost:8080/"
        },
        "id": "bKCSxUaUg8hA",
        "outputId": "16dec893-ccb5-4ff2-9193-49c980443f74"
      },
      "execution_count": null,
      "outputs": [
        {
          "output_type": "stream",
          "name": "stdout",
          "text": [
            "Your username is pet 3 Characters. INVALID\n",
            "Your username is petty 5 Characters. Proceed to register\n"
          ]
        }
      ]
    },
    {
      "cell_type": "code",
      "source": [
        "##Example 3 ELIF\n",
        "def hint_username(username):\n",
        "    if len(username) < 3:\n",
        "        print(username+\" Invalid username. Must be at least 3 characters long\")\n",
        "    elif len(username) > 15:\n",
        "        print(username +\" is an Invalid username. Must be at most 15 characters long\")\n",
        "    else:\n",
        "        print(\"Valid username\")\n",
        "hint_username(\"Ja\")\n",
        "hint_username(\"Kwaksjhbhjshhvsdxfcgvhbjnkgjhj\")"
      ],
      "metadata": {
        "colab": {
          "base_uri": "https://localhost:8080/"
        },
        "id": "vtHeCamYkDiU",
        "outputId": "5ee984d5-3f21-48d3-8d91-c64fedc8ac2a"
      },
      "execution_count": null,
      "outputs": [
        {
          "output_type": "stream",
          "name": "stdout",
          "text": [
            "Ja Invalid username. Must be at least 3 characters long\n",
            "Kwaksjhbhjshhvsdxfcgvhbjnkgjhj is an Invalid username. Must be at most 15 characters long\n"
          ]
        }
      ]
    },
    {
      "cell_type": "code",
      "source": [
        "##Using all the three conditions\n",
        "def key( username, password):\n",
        "  if (len(username) < 4 and len(password) < 8):\n",
        "    print(\"Username must be 4 characters and password 8 characters\")\n",
        "  elif len(username) < 4:\n",
        "    print(\"Username must be 4 characters\")\n",
        "  elif len(password) < 8:\n",
        "    print(\"Password must be 8 characters\")\n",
        "  else:\n",
        "    print(\"Valid username and password\")\n",
        "key(\"KIM\",\"JAM\")\n",
        "key(\"KIMATHI\", \"1234\")\n",
        "key(\"Bam\", \"123456789\")\n",
        "key(\"Jampo\", \"Jamb1234\")"
      ],
      "metadata": {
        "colab": {
          "base_uri": "https://localhost:8080/"
        },
        "id": "xMim-R3Mm7lr",
        "outputId": "7c160a90-57bd-4427-ee14-b3f7e1482c9c"
      },
      "execution_count": null,
      "outputs": [
        {
          "output_type": "stream",
          "name": "stdout",
          "text": [
            "Username must be 4 characters and password 8 characters\n",
            "Password must be 8 characters\n",
            "Username must be 4 characters\n",
            "Valid username and password\n"
          ]
        }
      ]
    },
    {
      "cell_type": "code",
      "source": [
        "#Test 1\n",
        "def hint(number):\n",
        "  if number > 11:\n",
        "    print(0)\n",
        "  elif number != 10:\n",
        "    (1)\n",
        "  elif number >= 20 or number < 12:\n",
        "    print(2)\n",
        "  else:\n",
        "    print(3)\n",
        "\n",
        "hint(10)\n"
      ],
      "metadata": {
        "colab": {
          "base_uri": "https://localhost:8080/"
        },
        "id": "GMfgqTZrukKS",
        "outputId": "3d722f21-3157-45e7-bb63-f537a1ad4e57"
      },
      "execution_count": null,
      "outputs": [
        {
          "output_type": "stream",
          "name": "stdout",
          "text": [
            "2\n"
          ]
        }
      ]
    }
  ]
}