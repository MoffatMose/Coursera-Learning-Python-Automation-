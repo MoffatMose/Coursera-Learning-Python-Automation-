{
  "nbformat": 4,
  "nbformat_minor": 0,
  "metadata": {
    "colab": {
      "provenance": [],
      "toc_visible": true,
      "gpuType": "T4",
      "authorship_tag": "ABX9TyPr/jMBVoMC11WSAkpGlAwN",
      "include_colab_link": true
    },
    "kernelspec": {
      "name": "python3",
      "display_name": "Python 3"
    },
    "language_info": {
      "name": "python"
    },
    "accelerator": "GPU"
  },
  "cells": [
    {
      "cell_type": "markdown",
      "metadata": {
        "id": "view-in-github",
        "colab_type": "text"
      },
      "source": [
        "<a href=\"https://colab.research.google.com/github/MoffatMose/Coursera-Learning-Python-Automation-/blob/main/Module_3_COURSE_1_coursera.ipynb\" target=\"_parent\"><img src=\"https://colab.research.google.com/assets/colab-badge.svg\" alt=\"Open In Colab\"/></a>"
      ]
    },
    {
      "cell_type": "markdown",
      "source": [
        "# **Introduction to loops**\n",
        "\n",
        "* Loops ; *WHILE, FOR and RECURSION*\n",
        "* I will explore when to use which loop and not the other.\n",
        "* Also i will learn about the loop syntax"
      ],
      "metadata": {
        "id": "DTBB4LfB7UQr"
      }
    },
    {
      "cell_type": "markdown",
      "source": [
        "# **WHILE LOOPS**\n",
        "\n",
        "* This is where a computer is instructed to excute a code based on value of a condition.\n",
        "\n",
        "**Looping steps**\n",
        "\n",
        "#Step 1: Initializing\n",
        "This is to give a value to a variable. Example take a variable x assigned as 2 (X=2)\n",
        "\n",
        "# Step 2:  starting a while loop\n",
        "This is done by an initial condition. Check the code below.\n",
        "# Step 3: The body of the loop\n",
        "What happens if the condition in the starting loop is met\n",
        "#step 4: Finallize. Executes the code.\n",
        "A while loop repeatedly executes a block of code as long as a specified condition remains true\n",
        "\n",
        "\n",
        "\n",
        "\n",
        "\n"
      ],
      "metadata": {
        "id": "FBnP_LNH8d-O"
      }
    },
    {
      "cell_type": "code",
      "source": [
        "#EXAMPLE 1\n",
        "\n",
        "x =   0  # Initializing\n",
        "while x < 5:   #Starting a while loop with a condition\n",
        "    print(\"Not there yet, x=\" + str(x))  # Body of the loop it executes\n",
        "    x = x + 1                            # Body of the loop (X is reassigned here)\n",
        "print(\"x=\" + str(x))\n",
        "\n",
        "#EXAMPLE 2 This will not print anything.\n",
        "\n",
        "def get_username():\n",
        "  while not valid_username(username):\n",
        "    print(\"Invalid username\")\n",
        "    username = get_username()"
      ],
      "metadata": {
        "colab": {
          "base_uri": "https://localhost:8080/"
        },
        "id": "8j-xXeAo86ff",
        "outputId": "f9a54c23-a84c-46b3-d198-d4975edb45a2"
      },
      "execution_count": null,
      "outputs": [
        {
          "output_type": "stream",
          "name": "stdout",
          "text": [
            "Not there yet, x=0\n",
            "Not there yet, x=1\n",
            "Not there yet, x=2\n",
            "Not there yet, x=3\n",
            "Not there yet, x=4\n",
            "x=5\n"
          ]
        }
      ]
    }
  ]
}